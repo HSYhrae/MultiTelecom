{
  "nbformat": 4,
  "nbformat_minor": 0,
  "metadata": {
    "colab": {
      "provenance": [],
      "toc_visible": true
    },
    "kernelspec": {
      "name": "python3",
      "display_name": "Python 3"
    },
    "language_info": {
      "name": "python"
    }
  },
  "cells": [
    {
      "cell_type": "markdown",
      "source": [
        "# 기본설정"
      ],
      "metadata": {
        "id": "S9uTPz_gOPrG"
      }
    },
    {
      "cell_type": "markdown",
      "source": [
        "- 한글 폰트 설정하기"
      ],
      "metadata": {
        "id": "aOV_lZnpKRdJ"
      }
    },
    {
      "cell_type": "code",
      "source": [
        "!sudo apt-get install -y fonts-nanum\n",
        "!sudo fc-cache -fv\n",
        "!rm ~/.cache/matplotlib -rf"
      ],
      "metadata": {
        "colab": {
          "base_uri": "https://localhost:8080/"
        },
        "id": "_xrzqaoAOSIJ",
        "outputId": "dc1db38d-74cd-491f-d2a5-771a92f48e64"
      },
      "execution_count": 42,
      "outputs": [
        {
          "output_type": "stream",
          "name": "stdout",
          "text": [
            "Reading package lists... Done\n",
            "Building dependency tree... Done\n",
            "Reading state information... Done\n",
            "fonts-nanum is already the newest version (20200506-1).\n",
            "0 upgraded, 0 newly installed, 0 to remove and 6 not upgraded.\n",
            "/usr/share/fonts: caching, new cache contents: 0 fonts, 1 dirs\n",
            "/usr/share/fonts/truetype: caching, new cache contents: 0 fonts, 3 dirs\n",
            "/usr/share/fonts/truetype/humor-sans: caching, new cache contents: 1 fonts, 0 dirs\n",
            "/usr/share/fonts/truetype/liberation: caching, new cache contents: 16 fonts, 0 dirs\n",
            "/usr/share/fonts/truetype/nanum: caching, new cache contents: 12 fonts, 0 dirs\n",
            "/usr/local/share/fonts: caching, new cache contents: 0 fonts, 0 dirs\n",
            "/root/.local/share/fonts: skipping, no such directory\n",
            "/root/.fonts: skipping, no such directory\n",
            "/usr/share/fonts/truetype: skipping, looped directory detected\n",
            "/usr/share/fonts/truetype/humor-sans: skipping, looped directory detected\n",
            "/usr/share/fonts/truetype/liberation: skipping, looped directory detected\n",
            "/usr/share/fonts/truetype/nanum: skipping, looped directory detected\n",
            "/var/cache/fontconfig: cleaning cache directory\n",
            "/root/.cache/fontconfig: not cleaning non-existent cache directory\n",
            "/root/.fontconfig: not cleaning non-existent cache directory\n",
            "fc-cache: succeeded\n"
          ]
        }
      ]
    },
    {
      "cell_type": "code",
      "source": [
        "import matplotlib.pyplot as plt\n",
        "%matplotlib inline\n",
        "\n",
        "plt.rc(\"font\", family=\"NanumGothic\") # 라이브러리 불러오기와 함께 한번만 실행\n",
        "\n",
        "plt.plot([1, 2, 3])\n",
        "plt.title(\"한글\")\n",
        "plt.show()"
      ],
      "metadata": {
        "colab": {
          "base_uri": "https://localhost:8080/",
          "height": 450
        },
        "id": "elLmZBNRplsm",
        "outputId": "875dcfe6-9fd5-471d-d6c9-e46089c69fcf"
      },
      "execution_count": 2,
      "outputs": [
        {
          "output_type": "display_data",
          "data": {
            "text/plain": [
              "<Figure size 640x480 with 1 Axes>"
            ],
            "image/png": "[encoded data removed]"
          },
          "metadata": {}
        }
      ]
    },
    {
      "cell_type": "markdown",
      "source": [
        "# Google Colab 빅쿼리 연동"
      ],
      "metadata": {
        "id": "XJ5QM4SSiAzm"
      }
    },
    {
      "cell_type": "code",
      "execution_count": 1,
      "metadata": {
        "id": "tvtTSGia3Ggs"
      },
      "outputs": [],
      "source": [
        "from google.colab import auth\n",
        "auth.authenticate_user()"
      ]
    },
    {
      "cell_type": "markdown",
      "source": [
        "# 데이터 가져오기\n",
        "- 공식문서 참조 : https://pandas.pydata.org/docs/reference/api/pandas.read_gbq.html"
      ],
      "metadata": {
        "id": "gSMzXPXKil5s"
      }
    },
    {
      "cell_type": "code",
      "source": [
        "import pandas as pd\n",
        "import numpy as np\n",
        "import seaborn as sns\n",
        "import matplotlib.pyplot as plt\n",
        "import plotly.express as px"
      ],
      "metadata": {
        "id": "UHfErViSNvQ3"
      },
      "execution_count": 3,
      "outputs": []
    },
    {
      "cell_type": "code",
      "source": [
        "project_id = 'multi-telecom'\n",
        "sql = '''\n",
        "SELECT * FROM `multi-telecom.churn_rate.telecom_stats` LIMIT 7100\n",
        "'''\n",
        "\n",
        "df = pd.read_gbq(sql, project_id = project_id, dialect = 'standard')\n",
        "df"
      ],
      "metadata": {
        "colab": {
          "base_uri": "https://localhost:8080/",
          "height": 443
        },
        "outputId": "301c8dfd-2bb9-4b9a-d1ac-d2ccf699fc7b",
        "id": "-lZl4q5d3q6I"
      },
      "execution_count": 4,
      "outputs": [
        {
          "output_type": "execute_result",
          "data": {
            "text/plain": [
              "      gender  Dependents  tenure  PhoneService  MultipleLines  \\\n",
              "0          1           0       1             1              0   \n",
              "1          0           0      15             1              0   \n",
              "2          0           1       4             1              0   \n",
              "3          0           0       1             1              0   \n",
              "4          1           0       1             1              0   \n",
              "...      ...         ...     ...           ...            ...   \n",
              "7038       0           1      68             1              1   \n",
              "7039       1           1      70             1              1   \n",
              "7040       0           0      63             1              1   \n",
              "7041       0           0      57             1              1   \n",
              "7042       0           1      70             1              1   \n",
              "\n",
              "      InternetService  OnlineSecurity  OnlineBackup  DeviceProtection  \\\n",
              "0                   0               0             0                 0   \n",
              "1                   0               0             0                 0   \n",
              "2                   0               0             0                 0   \n",
              "3                   0               0             0                 0   \n",
              "4                   0               0             0                 0   \n",
              "...               ...             ...           ...               ...   \n",
              "7038                1               1             1                 1   \n",
              "7039                1               0             1                 1   \n",
              "7040                1               0             1                 1   \n",
              "7041                1               0             1                 1   \n",
              "7042                1               1             1                 1   \n",
              "\n",
              "      TechSupport  ...  ChurnCategory_Dissatisfaction  ChurnCategory_Other  \\\n",
              "0               0  ...                              0                    0   \n",
              "1               0  ...                              0                    0   \n",
              "2               0  ...                              0                    0   \n",
              "3               0  ...                              0                    0   \n",
              "4               0  ...                              0                    0   \n",
              "...           ...  ...                            ...                  ...   \n",
              "7038            1  ...                              0                    0   \n",
              "7039            1  ...                              0                    0   \n",
              "7040            1  ...                              0                    0   \n",
              "7041            1  ...                              0                    0   \n",
              "7042            1  ...                              0                    0   \n",
              "\n",
              "      ChurnCategory_Price  Service_Num  Age_Group_Under_20  Age_Group_20_30  \\\n",
              "0                       0            1                   0                1   \n",
              "1                       1            1                   0                0   \n",
              "2                       1            1                   0                0   \n",
              "3                       1            1                   1                0   \n",
              "4                       0            1                   0                0   \n",
              "...                   ...          ...                 ...              ...   \n",
              "7038                    0           12                   0                0   \n",
              "7039                    0           12                   0                0   \n",
              "7040                    0           12                   0                0   \n",
              "7041                    0           12                   0                1   \n",
              "7042                    0           13                   0                0   \n",
              "\n",
              "      Age_Group_30_40  Age_Group_40_50 Age_Group_50_65  Age_Group_Over65  \n",
              "0                   0                0               0                 0  \n",
              "1                   0                1               0                 0  \n",
              "2                   1                0               0                 0  \n",
              "3                   0                0               0                 0  \n",
              "4                   1                0               0                 0  \n",
              "...               ...              ...             ...               ...  \n",
              "7038                0                0               1                 0  \n",
              "7039                1                0               0                 0  \n",
              "7040                0                1               0                 0  \n",
              "7041                0                0               0                 0  \n",
              "7042                0                0               1                 0  \n",
              "\n",
              "[7043 rows x 53 columns]"
            ],
            "text/html": [
              "\n",
              "  <div id=\"df-722558f7-c466-4ef4-a724-0547a68f2b5c\" class=\"colab-df-container\">\n",
              "    <div>\n",
              "<style scoped>\n",
              "    .dataframe tbody tr th:only-of-type {\n",
              "        vertical-align: middle;\n",
              "    }\n",
              "\n",
              "    .dataframe tbody tr th {\n",
              "        vertical-align: top;\n",
              "    }\n",
              "\n",
              "    .dataframe thead th {\n",
              "        text-align: right;\n",
              "    }\n",
              "</style>\n",
              "<table border=\"1\" class=\"dataframe\">\n",
              "  <thead>\n",
              "    <tr style=\"text-align: right;\">\n",
              "      <th></th>\n",
              "      <th>gender</th>\n",
              "      <th>Dependents</th>\n",
              "      <th>tenure</th>\n",
              "      <th>PhoneService</th>\n",
              "      <th>MultipleLines</th>\n",
              "      <th>InternetService</th>\n",
              "      <th>OnlineSecurity</th>\n",
              "      <th>OnlineBackup</th>\n",
              "      <th>DeviceProtection</th>\n",
              "      <th>TechSupport</th>\n",
              "      <th>...</th>\n",
              "      <th>ChurnCategory_Dissatisfaction</th>\n",
              "      <th>ChurnCategory_Other</th>\n",
              "      <th>ChurnCategory_Price</th>\n",
              "      <th>Service_Num</th>\n",
              "      <th>Age_Group_Under_20</th>\n",
              "      <th>Age_Group_20_30</th>\n",
              "      <th>Age_Group_30_40</th>\n",
              "      <th>Age_Group_40_50</th>\n",
              "      <th>Age_Group_50_65</th>\n",
              "      <th>Age_Group_Over65</th>\n",
              "    </tr>\n",
              "  </thead>\n",
              "  <tbody>\n",
              "    <tr>\n",
              "      <th>0</th>\n",
              "      <td>1</td>\n",
              "      <td>0</td>\n",
              "      <td>1</td>\n",
              "      <td>1</td>\n",
              "      <td>0</td>\n",
              "      <td>0</td>\n",
              "      <td>0</td>\n",
              "      <td>0</td>\n",
              "      <td>0</td>\n",
              "      <td>0</td>\n",
              "      <td>...</td>\n",
              "      <td>0</td>\n",
              "      <td>0</td>\n",
              "      <td>0</td>\n",
              "      <td>1</td>\n",
              "      <td>0</td>\n",
              "      <td>1</td>\n",
              "      <td>0</td>\n",
              "      <td>0</td>\n",
              "      <td>0</td>\n",
              "      <td>0</td>\n",
              "    </tr>\n",
              "    <tr>\n",
              "      <th>1</th>\n",
              "      <td>0</td>\n",
              "      <td>0</td>\n",
              "      <td>15</td>\n",
              "      <td>1</td>\n",
              "      <td>0</td>\n",
              "      <td>0</td>\n",
              "      <td>0</td>\n",
              "      <td>0</td>\n",
              "      <td>0</td>\n",
              "      <td>0</td>\n",
              "      <td>...</td>\n",
              "      <td>0</td>\n",
              "      <td>0</td>\n",
              "      <td>1</td>\n",
              "      <td>1</td>\n",
              "      <td>0</td>\n",
              "      <td>0</td>\n",
              "      <td>0</td>\n",
              "      <td>1</td>\n",
              "      <td>0</td>\n",
              "      <td>0</td>\n",
              "    </tr>\n",
              "    <tr>\n",
              "      <th>2</th>\n",
              "      <td>0</td>\n",
              "      <td>1</td>\n",
              "      <td>4</td>\n",
              "      <td>1</td>\n",
              "      <td>0</td>\n",
              "      <td>0</td>\n",
              "      <td>0</td>\n",
              "      <td>0</td>\n",
              "      <td>0</td>\n",
              "      <td>0</td>\n",
              "      <td>...</td>\n",
              "      <td>0</td>\n",
              "      <td>0</td>\n",
              "      <td>1</td>\n",
              "      <td>1</td>\n",
              "      <td>0</td>\n",
              "      <td>0</td>\n",
              "      <td>1</td>\n",
              "      <td>0</td>\n",
              "      <td>0</td>\n",
              "      <td>0</td>\n",
              "    </tr>\n",
              "    <tr>\n",
              "      <th>3</th>\n",
              "      <td>0</td>\n",
              "      <td>0</td>\n",
              "      <td>1</td>\n",
              "      <td>1</td>\n",
              "      <td>0</td>\n",
              "      <td>0</td>\n",
              "      <td>0</td>\n",
              "      <td>0</td>\n",
              "      <td>0</td>\n",
              "      <td>0</td>\n",
              "      <td>...</td>\n",
              "      <td>0</td>\n",
              "      <td>0</td>\n",
              "      <td>1</td>\n",
              "      <td>1</td>\n",
              "      <td>1</td>\n",
              "      <td>0</td>\n",
              "      <td>0</td>\n",
              "      <td>0</td>\n",
              "      <td>0</td>\n",
              "      <td>0</td>\n",
              "    </tr>\n",
              "    <tr>\n",
              "      <th>4</th>\n",
              "      <td>1</td>\n",
              "      <td>0</td>\n",
              "      <td>1</td>\n",
              "      <td>1</td>\n",
              "      <td>0</td>\n",
              "      <td>0</td>\n",
              "      <td>0</td>\n",
              "      <td>0</td>\n",
              "      <td>0</td>\n",
              "      <td>0</td>\n",
              "      <td>...</td>\n",
              "      <td>0</td>\n",
              "      <td>0</td>\n",
              "      <td>0</td>\n",
              "      <td>1</td>\n",
              "      <td>0</td>\n",
              "      <td>0</td>\n",
              "      <td>1</td>\n",
              "      <td>0</td>\n",
              "      <td>0</td>\n",
              "      <td>0</td>\n",
              "    </tr>\n",
              "    <tr>\n",
              "      <th>...</th>\n",
              "      <td>...</td>\n",
              "      <td>...</td>\n",
              "      <td>...</td>\n",
              "      <td>...</td>\n",
              "      <td>...</td>\n",
              "      <td>...</td>\n",
              "      <td>...</td>\n",
              "      <td>...</td>\n",
              "      <td>...</td>\n",
              "      <td>...</td>\n",
              "      <td>...</td>\n",
              "      <td>...</td>\n",
              "      <td>...</td>\n",
              "      <td>...</td>\n",
              "      <td>...</td>\n",
              "      <td>...</td>\n",
              "      <td>...</td>\n",
              "      <td>...</td>\n",
              "      <td>...</td>\n",
              "      <td>...</td>\n",
              "      <td>...</td>\n",
              "    </tr>\n",
              "    <tr>\n",
              "      <th>7038</th>\n",
              "      <td>0</td>\n",
              "      <td>1</td>\n",
              "      <td>68</td>\n",
              "      <td>1</td>\n",
              "      <td>1</td>\n",
              "      <td>1</td>\n",
              "      <td>1</td>\n",
              "      <td>1</td>\n",
              "      <td>1</td>\n",
              "      <td>1</td>\n",
              "      <td>...</td>\n",
              "      <td>0</td>\n",
              "      <td>0</td>\n",
              "      <td>0</td>\n",
              "      <td>12</td>\n",
              "      <td>0</td>\n",
              "      <td>0</td>\n",
              "      <td>0</td>\n",
              "      <td>0</td>\n",
              "      <td>1</td>\n",
              "      <td>0</td>\n",
              "    </tr>\n",
              "    <tr>\n",
              "      <th>7039</th>\n",
              "      <td>1</td>\n",
              "      <td>1</td>\n",
              "      <td>70</td>\n",
              "      <td>1</td>\n",
              "      <td>1</td>\n",
              "      <td>1</td>\n",
              "      <td>0</td>\n",
              "      <td>1</td>\n",
              "      <td>1</td>\n",
              "      <td>1</td>\n",
              "      <td>...</td>\n",
              "      <td>0</td>\n",
              "      <td>0</td>\n",
              "      <td>0</td>\n",
              "      <td>12</td>\n",
              "      <td>0</td>\n",
              "      <td>0</td>\n",
              "      <td>1</td>\n",
              "      <td>0</td>\n",
              "      <td>0</td>\n",
              "      <td>0</td>\n",
              "    </tr>\n",
              "    <tr>\n",
              "      <th>7040</th>\n",
              "      <td>0</td>\n",
              "      <td>0</td>\n",
              "      <td>63</td>\n",
              "      <td>1</td>\n",
              "      <td>1</td>\n",
              "      <td>1</td>\n",
              "      <td>0</td>\n",
              "      <td>1</td>\n",
              "      <td>1</td>\n",
              "      <td>1</td>\n",
              "      <td>...</td>\n",
              "      <td>0</td>\n",
              "      <td>0</td>\n",
              "      <td>0</td>\n",
              "      <td>12</td>\n",
              "      <td>0</td>\n",
              "      <td>0</td>\n",
              "      <td>0</td>\n",
              "      <td>1</td>\n",
              "      <td>0</td>\n",
              "      <td>0</td>\n",
              "    </tr>\n",
              "    <tr>\n",
              "      <th>7041</th>\n",
              "      <td>0</td>\n",
              "      <td>0</td>\n",
              "      <td>57</td>\n",
              "      <td>1</td>\n",
              "      <td>1</td>\n",
              "      <td>1</td>\n",
              "      <td>0</td>\n",
              "      <td>1</td>\n",
              "      <td>1</td>\n",
              "      <td>1</td>\n",
              "      <td>...</td>\n",
              "      <td>0</td>\n",
              "      <td>0</td>\n",
              "      <td>0</td>\n",
              "      <td>12</td>\n",
              "      <td>0</td>\n",
              "      <td>1</td>\n",
              "      <td>0</td>\n",
              "      <td>0</td>\n",
              "      <td>0</td>\n",
              "      <td>0</td>\n",
              "    </tr>\n",
              "    <tr>\n",
              "      <th>7042</th>\n",
              "      <td>0</td>\n",
              "      <td>1</td>\n",
              "      <td>70</td>\n",
              "      <td>1</td>\n",
              "      <td>1</td>\n",
              "      <td>1</td>\n",
              "      <td>1</td>\n",
              "      <td>1</td>\n",
              "      <td>1</td>\n",
              "      <td>1</td>\n",
              "      <td>...</td>\n",
              "      <td>0</td>\n",
              "      <td>0</td>\n",
              "      <td>0</td>\n",
              "      <td>13</td>\n",
              "      <td>0</td>\n",
              "      <td>0</td>\n",
              "      <td>0</td>\n",
              "      <td>0</td>\n",
              "      <td>1</td>\n",
              "      <td>0</td>\n",
              "    </tr>\n",
              "  </tbody>\n",
              "</table>\n",
              "<p>7043 rows × 53 columns</p>\n",
              "</div>\n",
              "    <div class=\"colab-df-buttons\">\n",
              "\n",
              "  <div class=\"colab-df-container\">\n",
              "    <button class=\"colab-df-convert\" onclick=\"convertToInteractive('df-722558f7-c466-4ef4-a724-0547a68f2b5c')\"\n",
              "            title=\"Convert this dataframe to an interactive table.\"\n",
              "            style=\"display:none;\">\n",
              "\n",
              "  <svg xmlns=\"http://www.w3.org/2000/svg\" height=\"24px\" viewBox=\"0 -960 960 960\">\n",
              "    <path d=\"M120-120v-720h720v720H120Zm60-500h600v-160H180v160Zm220 220h160v-160H400v160Zm0 220h160v-160H400v160ZM180-400h160v-160H180v160Zm440 0h160v-160H620v160ZM180-180h160v-160H180v160Zm440 0h160v-160H620v160Z\"/>\n",
              "  </svg>\n",
              "    </button>\n",
              "\n",
              "  <style>\n",
              "    .colab-df-container {\n",
              "      display:flex;\n",
              "      gap: 12px;\n",
              "    }\n",
              "\n",
              "    .colab-df-convert {\n",
              "      background-color: #E8F0FE;\n",
              "      border: none;\n",
              "      border-radius: 50%;\n",
              "      cursor: pointer;\n",
              "      display: none;\n",
              "      fill: #1967D2;\n",
              "      height: 32px;\n",
              "      padding: 0 0 0 0;\n",
              "      width: 32px;\n",
              "    }\n",
              "\n",
              "    .colab-df-convert:hover {\n",
              "      background-color: #E2EBFA;\n",
              "      box-shadow: 0px 1px 2px rgba(60, 64, 67, 0.3), 0px 1px 3px 1px rgba(60, 64, 67, 0.15);\n",
              "      fill: #174EA6;\n",
              "    }\n",
              "\n",
              "    .colab-df-buttons div {\n",
              "      margin-bottom: 4px;\n",
              "    }\n",
              "\n",
              "    [theme=dark] .colab-df-convert {\n",
              "      background-color: #3B4455;\n",
              "      fill: #D2E3FC;\n",
              "    }\n",
              "\n",
              "    [theme=dark] .colab-df-convert:hover {\n",
              "      background-color: #434B5C;\n",
              "      box-shadow: 0px 1px 3px 1px rgba(0, 0, 0, 0.15);\n",
              "      filter: drop-shadow(0px 1px 2px rgba(0, 0, 0, 0.3));\n",
              "      fill: #FFFFFF;\n",
              "    }\n",
              "  </style>\n",
              "\n",
              "    <script>\n",
              "      const buttonEl =\n",
              "        document.querySelector('#df-722558f7-c466-4ef4-a724-0547a68f2b5c button.colab-df-convert');\n",
              "      buttonEl.style.display =\n",
              "        google.colab.kernel.accessAllowed ? 'block' : 'none';\n",
              "\n",
              "      async function convertToInteractive(key) {\n",
              "        const element = document.querySelector('#df-722558f7-c466-4ef4-a724-0547a68f2b5c');\n",
              "        const dataTable =\n",
              "          await google.colab.kernel.invokeFunction('convertToInteractive',\n",
              "                                                    [key], {});\n",
              "        if (!dataTable) return;\n",
              "\n",
              "        const docLinkHtml = 'Like what you see? Visit the ' +\n",
              "          '<a target=\"_blank\" href=https://colab.research.google.com/notebooks/data_table.ipynb>data table notebook</a>'\n",
              "          + ' to learn more about interactive tables.';\n",
              "        element.innerHTML = '';\n",
              "        dataTable['output_type'] = 'display_data';\n",
              "        await google.colab.output.renderOutput(dataTable, element);\n",
              "        const docLink = document.createElement('div');\n",
              "        docLink.innerHTML = docLinkHtml;\n",
              "        element.appendChild(docLink);\n",
              "      }\n",
              "    </script>\n",
              "  </div>\n",
              "\n",
              "\n",
              "<div id=\"df-22525514-7a91-4f04-be81-c765645cd8fe\">\n",
              "  <button class=\"colab-df-quickchart\" onclick=\"quickchart('df-22525514-7a91-4f04-be81-c765645cd8fe')\"\n",
              "            title=\"Suggest charts\"\n",
              "            style=\"display:none;\">\n",
              "\n",
              "<svg xmlns=\"http://www.w3.org/2000/svg\" height=\"24px\"viewBox=\"0 0 24 24\"\n",
              "     width=\"24px\">\n",
              "    <g>\n",
              "        <path d=\"M19 3H5c-1.1 0-2 .9-2 2v14c0 1.1.9 2 2 2h14c1.1 0 2-.9 2-2V5c0-1.1-.9-2-2-2zM9 17H7v-7h2v7zm4 0h-2V7h2v10zm4 0h-2v-4h2v4z\"/>\n",
              "    </g>\n",
              "</svg>\n",
              "  </button>\n",
              "\n",
              "<style>\n",
              "  .colab-df-quickchart {\n",
              "      --bg-color: #E8F0FE;\n",
              "      --fill-color: #1967D2;\n",
              "      --hover-bg-color: #E2EBFA;\n",
              "      --hover-fill-color: #174EA6;\n",
              "      --disabled-fill-color: #AAA;\n",
              "      --disabled-bg-color: #DDD;\n",
              "  }\n",
              "\n",
              "  [theme=dark] .colab-df-quickchart {\n",
              "      --bg-color: #3B4455;\n",
              "      --fill-color: #D2E3FC;\n",
              "      --hover-bg-color: #434B5C;\n",
              "      --hover-fill-color: #FFFFFF;\n",
              "      --disabled-bg-color: #3B4455;\n",
              "      --disabled-fill-color: #666;\n",
              "  }\n",
              "\n",
              "  .colab-df-quickchart {\n",
              "    background-color: var(--bg-color);\n",
              "    border: none;\n",
              "    border-radius: 50%;\n",
              "    cursor: pointer;\n",
              "    display: none;\n",
              "    fill: var(--fill-color);\n",
              "    height: 32px;\n",
              "    padding: 0;\n",
              "    width: 32px;\n",
              "  }\n",
              "\n",
              "  .colab-df-quickchart:hover {\n",
              "    background-color: var(--hover-bg-color);\n",
              "    box-shadow: 0 1px 2px rgba(60, 64, 67, 0.3), 0 1px 3px 1px rgba(60, 64, 67, 0.15);\n",
              "    fill: var(--button-hover-fill-color);\n",
              "  }\n",
              "\n",
              "  .colab-df-quickchart-complete:disabled,\n",
              "  .colab-df-quickchart-complete:disabled:hover {\n",
              "    background-color: var(--disabled-bg-color);\n",
              "    fill: var(--disabled-fill-color);\n",
              "    box-shadow: none;\n",
              "  }\n",
              "\n",
              "  .colab-df-spinner {\n",
              "    border: 2px solid var(--fill-color);\n",
              "    border-color: transparent;\n",
              "    border-bottom-color: var(--fill-color);\n",
              "    animation:\n",
              "      spin 1s steps(1) infinite;\n",
              "  }\n",
              "\n",
              "  @keyframes spin {\n",
              "    0% {\n",
              "      border-color: transparent;\n",
              "      border-bottom-color: var(--fill-color);\n",
              "      border-left-color: var(--fill-color);\n",
              "    }\n",
              "    20% {\n",
              "      border-color: transparent;\n",
              "      border-left-color: var(--fill-color);\n",
              "      border-top-color: var(--fill-color);\n",
              "    }\n",
              "    30% {\n",
              "      border-color: transparent;\n",
              "      border-left-color: var(--fill-color);\n",
              "      border-top-color: var(--fill-color);\n",
              "      border-right-color: var(--fill-color);\n",
              "    }\n",
              "    40% {\n",
              "      border-color: transparent;\n",
              "      border-right-color: var(--fill-color);\n",
              "      border-top-color: var(--fill-color);\n",
              "    }\n",
              "    60% {\n",
              "      border-color: transparent;\n",
              "      border-right-color: var(--fill-color);\n",
              "    }\n",
              "    80% {\n",
              "      border-color: transparent;\n",
              "      border-right-color: var(--fill-color);\n",
              "      border-bottom-color: var(--fill-color);\n",
              "    }\n",
              "    90% {\n",
              "      border-color: transparent;\n",
              "      border-bottom-color: var(--fill-color);\n",
              "    }\n",
              "  }\n",
              "</style>\n",
              "\n",
              "  <script>\n",
              "    async function quickchart(key) {\n",
              "      const quickchartButtonEl =\n",
              "        document.querySelector('#' + key + ' button');\n",
              "      quickchartButtonEl.disabled = true;  // To prevent multiple clicks.\n",
              "      quickchartButtonEl.classList.add('colab-df-spinner');\n",
              "      try {\n",
              "        const charts = await google.colab.kernel.invokeFunction(\n",
              "            'suggestCharts', [key], {});\n",
              "      } catch (error) {\n",
              "        console.error('Error during call to suggestCharts:', error);\n",
              "      }\n",
              "      quickchartButtonEl.classList.remove('colab-df-spinner');\n",
              "      quickchartButtonEl.classList.add('colab-df-quickchart-complete');\n",
              "    }\n",
              "    (() => {\n",
              "      let quickchartButtonEl =\n",
              "        document.querySelector('#df-22525514-7a91-4f04-be81-c765645cd8fe button');\n",
              "      quickchartButtonEl.style.display =\n",
              "        google.colab.kernel.accessAllowed ? 'block' : 'none';\n",
              "    })();\n",
              "  </script>\n",
              "</div>\n",
              "    </div>\n",
              "  </div>\n"
            ]
          },
          "metadata": {},
          "execution_count": 4
        }
      ]
    },
    {
      "cell_type": "markdown",
      "source": [
        "## 데이터 정의"
      ],
      "metadata": {
        "id": "vvVEQey0f7Pe"
      }
    },
    {
      "cell_type": "code",
      "source": [
        "df.info()"
      ],
      "metadata": {
        "colab": {
          "base_uri": "https://localhost:8080/"
        },
        "id": "xiaEqF2k-fvH",
        "outputId": "2615ace3-0118-4c53-f40c-21903b4ebee9"
      },
      "execution_count": 5,
      "outputs": [
        {
          "output_type": "stream",
          "name": "stdout",
          "text": [
            "<class 'pandas.core.frame.DataFrame'>\n",
            "RangeIndex: 7043 entries, 0 to 7042\n",
            "Data columns (total 53 columns):\n",
            " #   Column                              Non-Null Count  Dtype  \n",
            "---  ------                              --------------  -----  \n",
            " 0   gender                              7043 non-null   Int64  \n",
            " 1   Dependents                          7043 non-null   Int64  \n",
            " 2   tenure                              7043 non-null   Int64  \n",
            " 3   PhoneService                        7043 non-null   Int64  \n",
            " 4   MultipleLines                       7043 non-null   Int64  \n",
            " 5   InternetService                     7043 non-null   Int64  \n",
            " 6   OnlineSecurity                      7043 non-null   Int64  \n",
            " 7   OnlineBackup                        7043 non-null   Int64  \n",
            " 8   DeviceProtection                    7043 non-null   Int64  \n",
            " 9   TechSupport                         7043 non-null   Int64  \n",
            " 10  StreamingTV                         7043 non-null   Int64  \n",
            " 11  StreamingMovies                     7043 non-null   Int64  \n",
            " 12  PaperlessBilling                    7043 non-null   Int64  \n",
            " 13  MonthlyCharges                      7043 non-null   float64\n",
            " 14  TotalCharges                        7032 non-null   float64\n",
            " 15  Churn                               7043 non-null   Int64  \n",
            " 16  ChurnScore                          7043 non-null   Int64  \n",
            " 17  CLTV                                7043 non-null   Int64  \n",
            " 18  ChurnReason                         1869 non-null   object \n",
            " 19  Age                                 7043 non-null   Int64  \n",
            " 20  Married                             7043 non-null   Int64  \n",
            " 21  ReferredAFriend                     7043 non-null   Int64  \n",
            " 22  NumberOfReferrals                   7043 non-null   Int64  \n",
            " 23  AvgMonthlyLongDistanceCharges       7043 non-null   float64\n",
            " 24  AvgMonthlyGBDownload                7043 non-null   Int64  \n",
            " 25  StreamingMusic                      7043 non-null   Int64  \n",
            " 26  PremiumTechSupport                  7043 non-null   Int64  \n",
            " 27  UnlimitedData                       7043 non-null   Int64  \n",
            " 28  TotalRefunds                        7043 non-null   float64\n",
            " 29  TotalExtraDataCharges               7043 non-null   Int64  \n",
            " 30  TotalLongDistanceCharges            7043 non-null   float64\n",
            " 31  TotalRevenue                        7043 non-null   float64\n",
            " 32  SatisfactionScore                   7043 non-null   Int64  \n",
            " 33  Contract_1                          7043 non-null   Int64  \n",
            " 34  Contract_12                         7043 non-null   Int64  \n",
            " 35  Contract_24                         7043 non-null   Int64  \n",
            " 36  payment_method_bank_transfer_auto   7043 non-null   Int64  \n",
            " 37  payment_method_credit_card_auto     7043 non-null   Int64  \n",
            " 38  payment_method_electronic_check     7043 non-null   Int64  \n",
            " 39  payment_method_credit_mailed_check  7043 non-null   Int64  \n",
            " 40  ChurnCategory_0                     7043 non-null   Int64  \n",
            " 41  ChurnCategory_Attitude              7043 non-null   Int64  \n",
            " 42  ChurnCategory_Competitor            7043 non-null   Int64  \n",
            " 43  ChurnCategory_Dissatisfaction       7043 non-null   Int64  \n",
            " 44  ChurnCategory_Other                 7043 non-null   Int64  \n",
            " 45  ChurnCategory_Price                 7043 non-null   Int64  \n",
            " 46  Service_Num                         7043 non-null   Int64  \n",
            " 47  Age_Group_Under_20                  7043 non-null   Int64  \n",
            " 48  Age_Group_20_30                     7043 non-null   Int64  \n",
            " 49  Age_Group_30_40                     7043 non-null   Int64  \n",
            " 50  Age_Group_40_50                     7043 non-null   Int64  \n",
            " 51  Age_Group_50_65                     7043 non-null   Int64  \n",
            " 52  Age_Group_Over65                    7043 non-null   Int64  \n",
            "dtypes: Int64(46), float64(6), object(1)\n",
            "memory usage: 3.2+ MB\n"
          ]
        }
      ]
    },
    {
      "cell_type": "markdown",
      "source": [
        "# 요인분석\n",
        "- Satisfaction Score : 회사에 대한 고객의 만족도 점수 (5점 척도) 에 대한 요인분석 진행.\n",
        "- 요인분석은 독립변수와 종속변수를 나눠서 진행하지 않으며, 독립변수들간의 관계를 알아보는 분석임."
      ],
      "metadata": {
        "id": "WrJnON_ag_Pw"
      }
    },
    {
      "cell_type": "markdown",
      "source": [
        "## 컬럼 정리"
      ],
      "metadata": {
        "id": "K44wYeZC_-Ey"
      }
    },
    {
      "cell_type": "code",
      "source": [
        "df = df.drop(['ChurnReason'], axis = 1)"
      ],
      "metadata": {
        "id": "v2qzVMSQ-mki"
      },
      "execution_count": 6,
      "outputs": []
    },
    {
      "cell_type": "code",
      "source": [
        "df['TotalCharges'].fillna(0, inplace=True)"
      ],
      "metadata": {
        "id": "J3IlabT-GYNL"
      },
      "execution_count": 7,
      "outputs": []
    },
    {
      "cell_type": "markdown",
      "source": [
        "## 표준화 스케일링"
      ],
      "metadata": {
        "id": "evxi8V5xLU2N"
      }
    },
    {
      "cell_type": "code",
      "source": [
        "!pip install factor_analyzer"
      ],
      "metadata": {
        "colab": {
          "base_uri": "https://localhost:8080/"
        },
        "id": "QYDMcqe-qUm4",
        "outputId": "9079da47-3e6b-423a-e071-f23e70caa40b"
      },
      "execution_count": 8,
      "outputs": [
        {
          "output_type": "stream",
          "name": "stdout",
          "text": [
            "Requirement already satisfied: factor_analyzer in /usr/local/lib/python3.10/dist-packages (0.5.0)\n",
            "Requirement already satisfied: pandas in /usr/local/lib/python3.10/dist-packages (from factor_analyzer) (1.5.3)\n",
            "Requirement already satisfied: scipy in /usr/local/lib/python3.10/dist-packages (from factor_analyzer) (1.11.3)\n",
            "Requirement already satisfied: numpy in /usr/local/lib/python3.10/dist-packages (from factor_analyzer) (1.23.5)\n",
            "Requirement already satisfied: scikit-learn in /usr/local/lib/python3.10/dist-packages (from factor_analyzer) (1.2.2)\n",
            "Requirement already satisfied: pre-commit in /usr/local/lib/python3.10/dist-packages (from factor_analyzer) (3.5.0)\n",
            "Requirement already satisfied: python-dateutil>=2.8.1 in /usr/local/lib/python3.10/dist-packages (from pandas->factor_analyzer) (2.8.2)\n",
            "Requirement already satisfied: pytz>=2020.1 in /usr/local/lib/python3.10/dist-packages (from pandas->factor_analyzer) (2023.3.post1)\n",
            "Requirement already satisfied: cfgv>=2.0.0 in /usr/local/lib/python3.10/dist-packages (from pre-commit->factor_analyzer) (3.4.0)\n",
            "Requirement already satisfied: identify>=1.0.0 in /usr/local/lib/python3.10/dist-packages (from pre-commit->factor_analyzer) (2.5.31)\n",
            "Requirement already satisfied: nodeenv>=0.11.1 in /usr/local/lib/python3.10/dist-packages (from pre-commit->factor_analyzer) (1.8.0)\n",
            "Requirement already satisfied: pyyaml>=5.1 in /usr/local/lib/python3.10/dist-packages (from pre-commit->factor_analyzer) (6.0.1)\n",
            "Requirement already satisfied: virtualenv>=20.10.0 in /usr/local/lib/python3.10/dist-packages (from pre-commit->factor_analyzer) (20.24.6)\n",
            "Requirement already satisfied: joblib>=1.1.1 in /usr/local/lib/python3.10/dist-packages (from scikit-learn->factor_analyzer) (1.3.2)\n",
            "Requirement already satisfied: threadpoolctl>=2.0.0 in /usr/local/lib/python3.10/dist-packages (from scikit-learn->factor_analyzer) (3.2.0)\n",
            "Requirement already satisfied: setuptools in /usr/local/lib/python3.10/dist-packages (from nodeenv>=0.11.1->pre-commit->factor_analyzer) (67.7.2)\n",
            "Requirement already satisfied: six>=1.5 in /usr/local/lib/python3.10/dist-packages (from python-dateutil>=2.8.1->pandas->factor_analyzer) (1.16.0)\n",
            "Requirement already satisfied: distlib<1,>=0.3.7 in /usr/local/lib/python3.10/dist-packages (from virtualenv>=20.10.0->pre-commit->factor_analyzer) (0.3.7)\n",
            "Requirement already satisfied: filelock<4,>=3.12.2 in /usr/local/lib/python3.10/dist-packages (from virtualenv>=20.10.0->pre-commit->factor_analyzer) (3.13.1)\n",
            "Requirement already satisfied: platformdirs<4,>=3.9.1 in /usr/local/lib/python3.10/dist-packages (from virtualenv>=20.10.0->pre-commit->factor_analyzer) (3.11.0)\n"
          ]
        }
      ]
    },
    {
      "cell_type": "code",
      "source": [
        "df['SatisfactionScore'].value_counts()"
      ],
      "metadata": {
        "colab": {
          "base_uri": "https://localhost:8080/"
        },
        "id": "AhBOQx-fsECq",
        "outputId": "bdc74615-9867-4243-c7a5-c8628dadaa16"
      },
      "execution_count": 51,
      "outputs": [
        {
          "output_type": "execute_result",
          "data": {
            "text/plain": [
              "3    2665\n",
              "4    1789\n",
              "5    1149\n",
              "1     922\n",
              "2     518\n",
              "Name: SatisfactionScore, dtype: Int64"
            ]
          },
          "metadata": {},
          "execution_count": 51
        }
      ]
    },
    {
      "cell_type": "code",
      "source": [
        "df1 = pd.get_dummies(df, columns=['SatisfactionScore'])"
      ],
      "metadata": {
        "id": "ZbOqhpLPshXf"
      },
      "execution_count": 9,
      "outputs": []
    },
    {
      "cell_type": "code",
      "source": [
        "df1.info()"
      ],
      "metadata": {
        "colab": {
          "base_uri": "https://localhost:8080/"
        },
        "id": "BdH2kAIkwDxI",
        "outputId": "88ce4275-0c9b-413a-8a97-caf0135902e4"
      },
      "execution_count": 10,
      "outputs": [
        {
          "output_type": "stream",
          "name": "stdout",
          "text": [
            "<class 'pandas.core.frame.DataFrame'>\n",
            "RangeIndex: 7043 entries, 0 to 7042\n",
            "Data columns (total 56 columns):\n",
            " #   Column                              Non-Null Count  Dtype  \n",
            "---  ------                              --------------  -----  \n",
            " 0   gender                              7043 non-null   Int64  \n",
            " 1   Dependents                          7043 non-null   Int64  \n",
            " 2   tenure                              7043 non-null   Int64  \n",
            " 3   PhoneService                        7043 non-null   Int64  \n",
            " 4   MultipleLines                       7043 non-null   Int64  \n",
            " 5   InternetService                     7043 non-null   Int64  \n",
            " 6   OnlineSecurity                      7043 non-null   Int64  \n",
            " 7   OnlineBackup                        7043 non-null   Int64  \n",
            " 8   DeviceProtection                    7043 non-null   Int64  \n",
            " 9   TechSupport                         7043 non-null   Int64  \n",
            " 10  StreamingTV                         7043 non-null   Int64  \n",
            " 11  StreamingMovies                     7043 non-null   Int64  \n",
            " 12  PaperlessBilling                    7043 non-null   Int64  \n",
            " 13  MonthlyCharges                      7043 non-null   float64\n",
            " 14  TotalCharges                        7043 non-null   float64\n",
            " 15  Churn                               7043 non-null   Int64  \n",
            " 16  ChurnScore                          7043 non-null   Int64  \n",
            " 17  CLTV                                7043 non-null   Int64  \n",
            " 18  Age                                 7043 non-null   Int64  \n",
            " 19  Married                             7043 non-null   Int64  \n",
            " 20  ReferredAFriend                     7043 non-null   Int64  \n",
            " 21  NumberOfReferrals                   7043 non-null   Int64  \n",
            " 22  AvgMonthlyLongDistanceCharges       7043 non-null   float64\n",
            " 23  AvgMonthlyGBDownload                7043 non-null   Int64  \n",
            " 24  StreamingMusic                      7043 non-null   Int64  \n",
            " 25  PremiumTechSupport                  7043 non-null   Int64  \n",
            " 26  UnlimitedData                       7043 non-null   Int64  \n",
            " 27  TotalRefunds                        7043 non-null   float64\n",
            " 28  TotalExtraDataCharges               7043 non-null   Int64  \n",
            " 29  TotalLongDistanceCharges            7043 non-null   float64\n",
            " 30  TotalRevenue                        7043 non-null   float64\n",
            " 31  Contract_1                          7043 non-null   Int64  \n",
            " 32  Contract_12                         7043 non-null   Int64  \n",
            " 33  Contract_24                         7043 non-null   Int64  \n",
            " 34  payment_method_bank_transfer_auto   7043 non-null   Int64  \n",
            " 35  payment_method_credit_card_auto     7043 non-null   Int64  \n",
            " 36  payment_method_electronic_check     7043 non-null   Int64  \n",
            " 37  payment_method_credit_mailed_check  7043 non-null   Int64  \n",
            " 38  ChurnCategory_0                     7043 non-null   Int64  \n",
            " 39  ChurnCategory_Attitude              7043 non-null   Int64  \n",
            " 40  ChurnCategory_Competitor            7043 non-null   Int64  \n",
            " 41  ChurnCategory_Dissatisfaction       7043 non-null   Int64  \n",
            " 42  ChurnCategory_Other                 7043 non-null   Int64  \n",
            " 43  ChurnCategory_Price                 7043 non-null   Int64  \n",
            " 44  Service_Num                         7043 non-null   Int64  \n",
            " 45  Age_Group_Under_20                  7043 non-null   Int64  \n",
            " 46  Age_Group_20_30                     7043 non-null   Int64  \n",
            " 47  Age_Group_30_40                     7043 non-null   Int64  \n",
            " 48  Age_Group_40_50                     7043 non-null   Int64  \n",
            " 49  Age_Group_50_65                     7043 non-null   Int64  \n",
            " 50  Age_Group_Over65                    7043 non-null   Int64  \n",
            " 51  SatisfactionScore_1                 7043 non-null   uint8  \n",
            " 52  SatisfactionScore_2                 7043 non-null   uint8  \n",
            " 53  SatisfactionScore_3                 7043 non-null   uint8  \n",
            " 54  SatisfactionScore_4                 7043 non-null   uint8  \n",
            " 55  SatisfactionScore_5                 7043 non-null   uint8  \n",
            "dtypes: Int64(45), float64(6), uint8(5)\n",
            "memory usage: 3.1 MB\n"
          ]
        }
      ]
    },
    {
      "cell_type": "code",
      "source": [
        "df1['SatisfactionScore_1'] = df1['SatisfactionScore_1'].astype(int)\n",
        "df1['SatisfactionScore_2'] = df1['SatisfactionScore_2'].astype(int)\n",
        "df1['SatisfactionScore_3'] = df1['SatisfactionScore_3'].astype(int)\n",
        "df1['SatisfactionScore_4'] = df1['SatisfactionScore_4'].astype(int)\n",
        "df1['SatisfactionScore_5'] = df1['SatisfactionScore_5'].astype(int)"
      ],
      "metadata": {
        "id": "XdUzTBdgwESe"
      },
      "execution_count": 11,
      "outputs": []
    },
    {
      "cell_type": "code",
      "source": [
        "import pandas as pd\n",
        "from factor_analyzer import FactorAnalyzer\n",
        "\n",
        "selected_columns = [\"SatisfactionScore_1\", 'SatisfactionScore_2', 'SatisfactionScore_3', 'SatisfactionScore_4', 'SatisfactionScore_5', 'Churn']\n",
        "df1 = df1[selected_columns]\n",
        "\n",
        "factor_analyzer = FactorAnalyzer(n_factors=4, rotation=\"varimax\")\n",
        "\n",
        "factor_analyzer.fit(df1)\n",
        "\n",
        "loadings = pd.DataFrame(factor_analyzer.loadings_, index=df1.columns)\n",
        "print(\"Loadings:\\n\", loadings)\n",
        "\n",
        "explained_variance = factor_analyzer.get_factor_variance()\n",
        "print(\"Explained Variance:\\n\", explained_variance)"
      ],
      "metadata": {
        "colab": {
          "base_uri": "https://localhost:8080/"
        },
        "id": "_6HodkY8wlQl",
        "outputId": "c71c3d0f-f29b-426a-fa4e-ee6132f4da09"
      },
      "execution_count": 15,
      "outputs": [
        {
          "output_type": "stream",
          "name": "stdout",
          "text": [
            "Loadings:\n",
            "                             0         1         2         3\n",
            "SatisfactionScore_1  0.987869 -0.028117 -0.131168 -0.043415\n",
            "SatisfactionScore_2  0.020264 -0.006268  0.996663 -0.040896\n",
            "SatisfactionScore_3 -0.331799  0.802429 -0.225878 -0.437697\n",
            "SatisfactionScore_4 -0.289750 -0.892982 -0.175813 -0.289816\n",
            "SatisfactionScore_5 -0.139252  0.028883 -0.080760  0.984465\n",
            "Churn                0.710956  0.117196  0.451090 -0.135423\n",
            "Explained Variance:\n",
            " (array([1.69519163, 1.45670726, 1.3024764 , 1.26664023]), array([0.28253194, 0.24278454, 0.2170794 , 0.2111067 ]), array([0.28253194, 0.52531648, 0.74239588, 0.95350259]))\n"
          ]
        }
      ]
    },
    {
      "cell_type": "markdown",
      "source": [
        "## 결과"
      ],
      "metadata": {
        "id": "NCSO6KF0P8m0"
      }
    },
    {
      "cell_type": "code",
      "source": [
        "ev, v = factor_analyzer.get_eigenvalues()\n",
        "plt.scatter(range(1, len(ev) + 1), ev)\n",
        "plt.plot(range(1, len(ev) + 1), ev)\n",
        "plt.title('Scree Plot')\n",
        "plt.xlabel('요인 수')\n",
        "plt.ylabel('고윳값')\n",
        "plt.grid()\n",
        "plt.show()"
      ],
      "metadata": {
        "colab": {
          "base_uri": "https://localhost:8080/",
          "height": 469
        },
        "id": "uvNIh3UeRmxx",
        "outputId": "8cdef25f-1813-4d3e-8106-171340d5bea5"
      },
      "execution_count": 13,
      "outputs": [
        {
          "output_type": "display_data",
          "data": {
            "text/plain": [
              "<Figure size 640x480 with 1 Axes>"
            ],
            "image/png": "[encoded data removed]"
          },
          "metadata": {}
        }
      ]
    },
    {
      "cell_type": "markdown",
      "source": [
        "**Explained Variance:\n",
        " (array([1.69519163, 1.45670726, 1.3024764 , 1.26664023]), array([0.28253194, 0.24278454, 0.2170794 , 0.2111067 ]), array([0.28253194, 0.52531648, 0.74239588, 0.95350259]))**\n",
        "<br>\n",
        "<br>\n",
        "\n",
        "**구분**\n",
        "\n",
        "- 전체 고유값의 배열 (Eigenvalues): [1.69519163, 1.45670726, 1.3024764 , 1.26664023]\n",
        "- 요인별 설명된 분산의 배열 (Explained Variance per Factor): [0.28253194, 0.24278454, 0.2170794 , 0.2111067 ]\n",
        "- 누적된 설명된 분산의 배열 (Cumulative Explained Variance): [0.28253194, 0.52531648, 0.74239588, 0.95350259]\n",
        "<br>\n",
        "<br>\n",
        "\n",
        "**해석**\n",
        "- 전체 고유값 배열: 요인의 개수에 따른 고유값이 나열됨. 고유값은 각 요인이 설명하는 데이터의 분산을 나타내며, 높은 고유값은 해당 요인이 중요하게 작용함을 의미.\n",
        "\n",
        "- 요인별 설명된 분산 배열: 각 요인이 설명하는 분산의 비율이 나열됨.\n",
        "\n",
        "  첫번째 요인은 전체 분산의 약 28%, 두번째 요인은 약 24%, 세번째 요인은 약 22%, 네번째 요인은 약 21%로 4개의 요인으로 설명이 가능함.\n",
        "\n",
        "- 누적된 설명된 분산 배열: 각 요인이 추가됨에 따라 누적된 설명된 분산의 비율이 나열됨. 네 번째 요인을 포함하면, 약 95%의 전체 분산이 설명됨."
      ],
      "metadata": {
        "id": "A4wmosC1QAoJ"
      }
    },
    {
      "cell_type": "markdown",
      "source": [
        "**요인별 해석**\n",
        "\n",
        "- Factor 0 :\n",
        "\n",
        "  \"SatisfactionScore_1\"에 대해서 강한 긍정적인 영향을 받음.\n",
        "\n",
        "  \"SatisfactionScore_2\", \"SatisfactionScore_3\", \"SatisfactionScore_4\", \"SatisfactionScore_5\"에 대해서 부정적인 영향이 있지만, 크지 않음.\n",
        "\n",
        "  \"Churn\"에 대해서 강한 긍정적인 영향을 받음.\n",
        "- Factor 1 :\n",
        "\n",
        "  \"SatisfactionScore_1\", \"SatisfactionScore_2\"에 대해서 부정적인 영향이 있지만, 크지 않음.\n",
        "\n",
        "  \"SatisfactionScore_3\"에 대해서 강한 긍정적인 영향을 받음.\n",
        "\n",
        "  \"SatisfactionScore_4\"에 대해서 강한 부정적인 영향을 받음.\n",
        "\n",
        "  \"SatisfactionScore_5\"에 대해서 긍정적인 영향이 있지만, 크지 않음.\n",
        "\n",
        "  \"Churn\"에 대해서 긍정적인 영향이 있지만, 크지 않음.\n",
        "- Factor 2 :\n",
        "\n",
        "  \"SatisfactionScore_1\", \"SatisfactionScore_3\", \"SatisfactionScore_4\", \"SatisfactionScore_5\"에 대해서 부정적인 영향이 있지만, 크지 않음.\n",
        "\n",
        "  \"SatisfactionScore_2\"에 대해서 강한 긍정적인 영향을 받음.\n",
        "\n",
        "  \"Churn\"에 대해서 부정적인 영향이 있지만, 크지 않음.\n",
        "- Factor 3 :\n",
        "\n",
        "  \"SatisfactionScore_1\"에 대해서 부정적인 영향이 있지만, 크지 않음.\n",
        "\n",
        "  \"SatisfactionScore_2\"에 대해서 긍정적인 영향이 있지만, 크지 않음.\n",
        "\n",
        "  \"SatisfactionScore_3\", \"SatisfactionScore_4\", \"SatisfactionScore_5\"에 대해서 강한 부정적인 영향을 받음.\n",
        "\n",
        "  \"Churn\"에 대해서 부정적인 영향이 있지만, 크지 않음."
      ],
      "metadata": {
        "id": "j9yG0xXIcUo3"
      }
    },
    {
      "cell_type": "markdown",
      "source": [
        "# 결론\n",
        "- 요인분석을 통해 각 요인별로 만족도 점수가 어떤 상관관계를 보이는지 확인함.\n",
        "- Factor 0 는 \"SatisfactionScore_1\"이 큰 영향을 주며, \"Churn\"과 양적인 관계를 가짐.\n",
        "- Factor 1 은 \"SatisfactionScore_3\"이 큰 영향을 주며, \"SatisfactionScore_4\"와 \"Churn\"과 양적인 관계를 가짐.\n",
        "- Factor 2 는 \"SatisfactionScore_2\"가 큰 영향을 주며, \"Churn\"과 부정적인 관계를 가짐.\n",
        "- Factor 3 은 \"SatisfactionScore_3\", \"SatisfactionScore_4\", \"SatisfactionScore_5\"가 큰 영향을 주며, \"Churn\"과 강한 부정적인 관계를 가짐.\n",
        "<br>\n",
        "<br>\n",
        "\n",
        "=> **즉, Factor 0은 이탈성을 높게 보이고, Factor 1은 유지보단 이탈율이 조금 더 높게 나오며, Factor 2와 Factor 3는 이탈성을 낮게 보임.**"
      ],
      "metadata": {
        "id": "O7ALyuNfdfCv"
      }
    }
  ]
}