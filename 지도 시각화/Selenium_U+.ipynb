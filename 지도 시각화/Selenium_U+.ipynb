{
  "nbformat": 4,
  "nbformat_minor": 0,
  "metadata": {
    "colab": {
      "provenance": []
    },
    "kernelspec": {
      "name": "python3",
      "display_name": "Python 3"
    },
    "language_info": {
      "name": "python"
    }
  },
  "cells": [
    {
      "cell_type": "code",
      "source": [
        "from google.colab import drive\n",
        "drive.mount('/content/drive')"
      ],
      "metadata": {
        "colab": {
          "base_uri": "https://localhost:8080/"
        },
        "id": "9vylbKQEDeVB",
        "outputId": "515f8e63-f62e-450d-d6ff-35c9059b8538"
      },
      "execution_count": 10,
      "outputs": [
        {
          "output_type": "stream",
          "name": "stdout",
          "text": [
            "Mounted at /content/drive\n"
          ]
        }
      ]
    },
    {
      "cell_type": "code",
      "source": [
        "# Set up for running selenium in Google Colab\n",
        "## You don't need to run this code if you do it in Jupyter notebook, or other local Python setting\n",
        "%%shell\n",
        "sudo apt -y update\n",
        "sudo apt install -y wget curl unzip\n",
        "wget http://archive.ubuntu.com/ubuntu/pool/main/libu/libu2f-host/libu2f-udev_1.1.4-1_all.deb\n",
        "dpkg -i libu2f-udev_1.1.4-1_all.deb\n",
        "wget https://dl.google.com/linux/direct/google-chrome-stable_current_amd64.deb\n",
        "dpkg -i google-chrome-stable_current_amd64.deb\n",
        "CHROME_DRIVER_VERSION=`curl -sS chromedriver.storage.googleapis.com/LATEST_RELEASE`\n",
        "wget -N https://chromedriver.storage.googleapis.com/$CHROME_DRIVER_VERSION/chromedriver_linux64.zip -P /tmp/\n",
        "unzip -o /tmp/chromedriver_linux64.zip -d /tmp/\n",
        "chmod +x /tmp/chromedriver\n",
        "mv /tmp/chromedriver /usr/local/bin/chromedriver\n",
        "pip install selenium"
      ],
      "metadata": {
        "colab": {
          "base_uri": "https://localhost:8080/"
        },
        "id": "22cL0w6evjpe",
        "outputId": "ae6d709d-bfdc-4c6c-cd92-5960481e83df"
      },
      "execution_count": 1,
      "outputs": [
        {
          "output_type": "stream",
          "name": "stdout",
          "text": [
            "Hit:1 https://cloud.r-project.org/bin/linux/ubuntu jammy-cran40/ InRelease\n",
            "Hit:2 https://developer.download.nvidia.com/compute/cuda/repos/ubuntu2204/x86_64  InRelease\n",
            "Get:3 http://security.ubuntu.com/ubuntu jammy-security InRelease [110 kB]\n",
            "Hit:4 http://archive.ubuntu.com/ubuntu jammy InRelease\n",
            "Get:5 http://archive.ubuntu.com/ubuntu jammy-updates InRelease [119 kB]\n",
            "Hit:6 https://ppa.launchpadcontent.net/c2d4u.team/c2d4u4.0+/ubuntu jammy InRelease\n",
            "Get:7 http://archive.ubuntu.com/ubuntu jammy-backports InRelease [109 kB]\n",
            "Hit:8 https://ppa.launchpadcontent.net/deadsnakes/ppa/ubuntu jammy InRelease\n",
            "Hit:9 https://ppa.launchpadcontent.net/graphics-drivers/ppa/ubuntu jammy InRelease\n",
            "Hit:10 https://ppa.launchpadcontent.net/ubuntugis/ppa/ubuntu jammy InRelease\n",
            "Fetched 338 kB in 3s (104 kB/s)\n",
            "Reading package lists... Done\n",
            "Building dependency tree... Done\n",
            "Reading state information... Done\n",
            "25 packages can be upgraded. Run 'apt list --upgradable' to see them.\n",
            "Reading package lists... Done\n",
            "Building dependency tree... Done\n",
            "Reading state information... Done\n",
            "wget is already the newest version (1.21.2-2ubuntu1).\n",
            "curl is already the newest version (7.81.0-1ubuntu1.14).\n",
            "unzip is already the newest version (6.0-26ubuntu3.1).\n",
            "You might want to run 'apt --fix-broken install' to correct these.\n",
            "The following packages have unmet dependencies:\n",
            " google-chrome-stable : Depends: libvulkan1 but it is not going to be installed\n",
            "\u001b[1;31mE: \u001b[0mUnmet dependencies. Try 'apt --fix-broken install' with no packages (or specify a solution).\u001b[0m\n",
            "--2023-11-06 04:52:09--  http://archive.ubuntu.com/ubuntu/pool/main/libu/libu2f-host/libu2f-udev_1.1.4-1_all.deb\n",
            "Resolving archive.ubuntu.com (archive.ubuntu.com)... 185.125.190.39, 91.189.91.81, 91.189.91.82, ...\n",
            "Connecting to archive.ubuntu.com (archive.ubuntu.com)|185.125.190.39|:80... connected.\n",
            "HTTP request sent, awaiting response... 200 OK\n",
            "Length: 3708 (3.6K) [application/x-debian-package]\n",
            "Saving to: ‘libu2f-udev_1.1.4-1_all.deb.5’\n",
            "\n",
            "libu2f-udev_1.1.4-1 100%[===================>]   3.62K  --.-KB/s    in 0s      \n",
            "\n",
            "2023-11-06 04:52:10 (486 MB/s) - ‘libu2f-udev_1.1.4-1_all.deb.5’ saved [3708/3708]\n",
            "\n",
            "(Reading database ... 120994 files and directories currently installed.)\n",
            "Preparing to unpack libu2f-udev_1.1.4-1_all.deb ...\n",
            "Unpacking libu2f-udev (1.1.4-1) over (1.1.4-1) ...\n",
            "Setting up libu2f-udev (1.1.4-1) ...\n",
            "--2023-11-06 04:52:10--  https://dl.google.com/linux/direct/google-chrome-stable_current_amd64.deb\n",
            "Resolving dl.google.com (dl.google.com)... 142.250.128.91, 142.250.128.93, 142.250.128.136, ...\n",
            "Connecting to dl.google.com (dl.google.com)|142.250.128.91|:443... connected.\n",
            "HTTP request sent, awaiting response... 200 OK\n",
            "Length: 103888432 (99M) [application/x-debian-package]\n",
            "Saving to: ‘google-chrome-stable_current_amd64.deb.5’\n",
            "\n",
            "google-chrome-stabl 100%[===================>]  99.08M   375MB/s    in 0.3s    \n",
            "\n",
            "2023-11-06 04:52:10 (375 MB/s) - ‘google-chrome-stable_current_amd64.deb.5’ saved [103888432/103888432]\n",
            "\n",
            "(Reading database ... 120994 files and directories currently installed.)\n",
            "Preparing to unpack google-chrome-stable_current_amd64.deb ...\n",
            "Unpacking google-chrome-stable (119.0.6045.105-1) over (119.0.6045.105-1) ...\n",
            "\u001b[1mdpkg:\u001b[0m dependency problems prevent configuration of google-chrome-stable:\n",
            " google-chrome-stable depends on libvulkan1; however:\n",
            "  Package libvulkan1 is not installed.\n",
            "\n",
            "\u001b[1mdpkg:\u001b[0m error processing package google-chrome-stable (--install):\n",
            " dependency problems - leaving unconfigured\n",
            "Processing triggers for man-db (2.10.2-1) ...\n",
            "Errors were encountered while processing:\n",
            " google-chrome-stable\n",
            "--2023-11-06 04:52:23--  https://chromedriver.storage.googleapis.com/114.0.5735.90/chromedriver_linux64.zip\n",
            "Resolving chromedriver.storage.googleapis.com (chromedriver.storage.googleapis.com)... 108.177.120.207, 142.250.103.207, 142.251.172.207, ...\n",
            "Connecting to chromedriver.storage.googleapis.com (chromedriver.storage.googleapis.com)|108.177.120.207|:443... connected.\n",
            "HTTP request sent, awaiting response... 304 Not Modified\n",
            "File ‘/tmp/chromedriver_linux64.zip’ not modified on server. Omitting download.\n",
            "\n",
            "Archive:  /tmp/chromedriver_linux64.zip\n",
            "  inflating: /tmp/chromedriver       \n",
            "  inflating: /tmp/LICENSE.chromedriver  \n",
            "Requirement already satisfied: selenium in /usr/local/lib/python3.10/dist-packages (4.15.2)\n",
            "Requirement already satisfied: urllib3[socks]<3,>=1.26 in /usr/local/lib/python3.10/dist-packages (from selenium) (2.0.7)\n",
            "Requirement already satisfied: trio~=0.17 in /usr/local/lib/python3.10/dist-packages (from selenium) (0.23.1)\n",
            "Requirement already satisfied: trio-websocket~=0.9 in /usr/local/lib/python3.10/dist-packages (from selenium) (0.11.1)\n",
            "Requirement already satisfied: certifi>=2021.10.8 in /usr/local/lib/python3.10/dist-packages (from selenium) (2023.7.22)\n",
            "Requirement already satisfied: attrs>=20.1.0 in /usr/local/lib/python3.10/dist-packages (from trio~=0.17->selenium) (23.1.0)\n",
            "Requirement already satisfied: sortedcontainers in /usr/local/lib/python3.10/dist-packages (from trio~=0.17->selenium) (2.4.0)\n",
            "Requirement already satisfied: idna in /usr/local/lib/python3.10/dist-packages (from trio~=0.17->selenium) (3.4)\n",
            "Requirement already satisfied: outcome in /usr/local/lib/python3.10/dist-packages (from trio~=0.17->selenium) (1.3.0.post0)\n",
            "Requirement already satisfied: sniffio>=1.3.0 in /usr/local/lib/python3.10/dist-packages (from trio~=0.17->selenium) (1.3.0)\n",
            "Requirement already satisfied: exceptiongroup>=1.0.0rc9 in /usr/local/lib/python3.10/dist-packages (from trio~=0.17->selenium) (1.1.3)\n",
            "Requirement already satisfied: wsproto>=0.14 in /usr/local/lib/python3.10/dist-packages (from trio-websocket~=0.9->selenium) (1.2.0)\n",
            "Requirement already satisfied: pysocks!=1.5.7,<2.0,>=1.5.6 in /usr/local/lib/python3.10/dist-packages (from urllib3[socks]<3,>=1.26->selenium) (1.7.1)\n",
            "Requirement already satisfied: h11<1,>=0.9.0 in /usr/local/lib/python3.10/dist-packages (from wsproto>=0.14->trio-websocket~=0.9->selenium) (0.14.0)\n"
          ]
        },
        {
          "output_type": "execute_result",
          "data": {
            "text/plain": []
          },
          "metadata": {},
          "execution_count": 1
        }
      ]
    },
    {
      "cell_type": "code",
      "source": [
        "!pip install chromedriver-autoinstaller"
      ],
      "metadata": {
        "colab": {
          "base_uri": "https://localhost:8080/"
        },
        "id": "lRsgLlxyvnlF",
        "outputId": "95a5aa71-ae61-4011-ac7e-65393522d9b8"
      },
      "execution_count": 2,
      "outputs": [
        {
          "output_type": "stream",
          "name": "stdout",
          "text": [
            "Requirement already satisfied: chromedriver-autoinstaller in /usr/local/lib/python3.10/dist-packages (0.6.2)\n"
          ]
        }
      ]
    },
    {
      "cell_type": "code",
      "source": [
        "import sys\n",
        "sys.path.insert(0,'/usr/lib/chromium-browser/chromedriver')\n",
        "\n",
        "import time\n",
        "import pandas as pd\n",
        "from bs4 import BeautifulSoup\n",
        "import selenium\n",
        "from selenium import webdriver\n",
        "import chromedriver_autoinstaller\n",
        "\n",
        "print(selenium.__version__)"
      ],
      "metadata": {
        "colab": {
          "base_uri": "https://localhost:8080/"
        },
        "id": "PCB9suDvvtqI",
        "outputId": "a7422d0d-15cd-45a0-d42f-c466e8fb8cc4"
      },
      "execution_count": 3,
      "outputs": [
        {
          "output_type": "stream",
          "name": "stdout",
          "text": [
            "4.15.2\n"
          ]
        }
      ]
    },
    {
      "cell_type": "code",
      "source": [
        "# setup chrome options\n",
        "chrome_options = webdriver.ChromeOptions()\n",
        "chrome_options.add_argument('--headless') # ensure GUI is off\n",
        "chrome_options.add_argument('--no-sandbox')\n",
        "chrome_options.add_argument('--disable-dev-shm-usage')\n",
        "\n",
        "# set path to chromedriver as per your configuration\n",
        "chromedriver_autoinstaller.install()\n",
        "\n",
        "# set up the webdriver\n",
        "driver = webdriver.Chrome(options=chrome_options)\n",
        "print(driver)"
      ],
      "metadata": {
        "colab": {
          "base_uri": "https://localhost:8080/"
        },
        "id": "8lWR94NJv15v",
        "outputId": "e50e86e3-b30f-4891-d2f7-16a1cda9f6e6"
      },
      "execution_count": 4,
      "outputs": [
        {
          "output_type": "stream",
          "name": "stdout",
          "text": [
            "<selenium.webdriver.chrome.webdriver.WebDriver (session=\"277b299f12e5e5288166c93029b4030a\")>\n"
          ]
        }
      ]
    },
    {
      "cell_type": "markdown",
      "source": [
        "유플러스 : https://www.uplusumobile.com/support/csStore?tab=store&latitude=&longitude=&srchTxt=%EC%84%9C%EC%9A%B8&currentPageNo=35&lastPageNo=35&_csrf=50c769c2-220e-40e9-91bc-4a50e2d38a75#\n",
        "\n",
        "kt : https://help.kt.com/store/KtStoreSearch.do\n",
        "\n",
        "skt : https://www.tworld.co.kr/web/support/store/map"
      ],
      "metadata": {
        "id": "ssYVikCrbGjT"
      }
    },
    {
      "cell_type": "markdown",
      "source": [
        "https://noanomal.tistory.com/entry/AttributeError-str-object-has-no-attribute-capabilities#google_vignette"
      ],
      "metadata": {
        "id": "piUCYMxATpfa"
      }
    },
    {
      "cell_type": "code",
      "source": [
        "import time\n",
        "from selenium import webdriver\n",
        "from selenium.webdriver.common.by import By\n",
        "from selenium.webdriver.common.keys import Keys\n",
        "from selenium.webdriver.support.ui import WebDriverWait\n",
        "from selenium.webdriver.support import expected_conditions as EC\n",
        "\n",
        "url = \"https://www.lguplus.com/support/store-address\"\n",
        "driver.get(url)\n",
        "time.sleep(3)\n",
        "place_names = []\n",
        "addresses = []\n",
        "phones = []\n",
        "\n",
        "# 기본 설정\n",
        "select_element = driver.find_element(By.XPATH, \"/html/body/div[1]/div/div/div[4]/div[1]/div/div[2]/div/div[2]/div[1]/div[1]/div/div[3]/select/option[1]\")\n",
        "select_element.click()\n",
        "\n",
        "load_button = driver.find_element(By.XPATH, \"/html/body/div[1]/div/div/div[4]/div[1]/div/div[2]/div/div[2]/div[1]/div[1]/div/div[4]/div/button\")\n",
        "load_button.click()\n",
        "time.sleep(3)\n",
        "\n",
        "for page in range(35):\n",
        "        for i in range(2):  # 예를 들어 3번 스크롤 다운\n",
        "                driver.execute_script(\"window.scrollTo(0, document.body.scrollHeight)\")\n",
        "                time.sleep(3)\n",
        "\n",
        "        for i in range(0, 9):\n",
        "                title_button = driver.find_element(By.XPATH, f\"//*[@id=\\\"_uid_{247 + 3 * i}\\\"]\")\n",
        "                place_names.append(title_button.text)\n",
        "\n",
        "                address_element = driver.find_element(By.XPATH, f'//*[@id=\"contentsSection\"]/div/div[2]/div[1]/div[2]/div[1]/div[2]/div[1]/ul/li[{i+1}]/div[1]/p[1]')\n",
        "                addresses.append(address_element.text)\n",
        "\n",
        "                phone_element = driver.find_element(By.XPATH, f'//*[@id=\"contentsSection\"]/div/div[2]/div[1]/div[2]/div[1]/div[2]/div[1]/ul/li[{i+1}]/div[1]/p[2]').text\n",
        "                phones.append(phone_element)\n",
        "\n",
        "        if page < 34:\n",
        "\n",
        "                for _ in range(2):\n",
        "                        driver.find_element(By.TAG_NAME, 'body').send_keys(Keys.PAGE_UP)\n",
        "                        time.sleep(2)\n",
        "                wait = WebDriverWait(driver, 5)\n",
        "                next_button = wait.until(EC.presence_of_element_located((By.XPATH, '//*[@id=\"contentsSection\"]/div/div[2]/div[1]/div[2]/div[1]/div[2]/div[2]/ul/li[8]')))\n",
        "                next_button.click()\n",
        "                time.sleep(2)\n",
        "                driver.execute_script(\"window.scrollTo(0, 0);\")\n",
        "                time.sleep(2)\n",
        "\n",
        "data = {'장소': place_names, '주소': addresses, '전화번호': phones}\n",
        "df = pd.DataFrame(data)\n",
        "\n",
        "df.to_excel('유플러스.xlsx', index=False)"
      ],
      "metadata": {
        "id": "JByZ8fo3cG6a"
      },
      "execution_count": 6,
      "outputs": []
    },
    {
      "cell_type": "code",
      "source": [
        "import pandas as pd\n",
        "\n",
        "df = pd.read_excel(\"유플러스.xlsx\")\n",
        "\n",
        "df['장소'] = df['장소'].str[2:]\n",
        "df['주소'] = df['주소'].str[4:]\n",
        "df['전화번호'] = df['전화번호'].str[5:]\n",
        "\n",
        "df.to_excel(\"유플러스_최종.xlsx\", index=False)"
      ],
      "metadata": {
        "id": "FYs9DtWCDh64"
      },
      "execution_count": 9,
      "outputs": []
    }
  ]
}